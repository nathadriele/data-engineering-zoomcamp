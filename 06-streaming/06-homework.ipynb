{
 "cells": [
  {
   "cell_type": "markdown",
   "id": "bea1a708-5087-4a88-83d9-e1e408ba51ff",
   "metadata": {},
   "source": [
    "### Stream Processing"
   ]
  },
  {
   "cell_type": "markdown",
   "id": "a368f186-9daf-4d52-b14d-cdd4c0f51dfe",
   "metadata": {},
   "source": [
    "### Setup"
   ]
  },
  {
   "cell_type": "code",
   "execution_count": null,
   "id": "92644d96-b69a-451e-8f20-d0eb5234ab4e",
   "metadata": {},
   "outputs": [],
   "source": [
    "Username : postgres\n",
    "Password : postgres\n",
    "Database : postgres\n",
    "Host     : localhost\n",
    "Port     : 5432"
   ]
  },
  {
   "cell_type": "markdown",
   "id": "42767f80-e437-44ad-868e-deb7ecbe6d5f",
   "metadata": {},
   "source": [
    "### Running new query"
   ]
  },
  {
   "cell_type": "code",
   "execution_count": null,
   "id": "712507ee-fe02-4f29-b473-c924b2cd35f2",
   "metadata": {},
   "outputs": [],
   "source": [
    "CREATE TABLE processed_events (\n",
    "    test_data INTEGER,\n",
    "    event_timestamp TIMESTAMP\n",
    ");\n",
    "\n",
    "CREATE TABLE processed_events_aggregated (\n",
    "    event_hour TIMESTAMP,\n",
    "    test_data INTEGER,\n",
    "    num_hits INTEGER \n",
    ");"
   ]
  },
  {
   "cell_type": "markdown",
   "id": "ec2c2aaa-3927-4cb4-94db-e9f5726588fb",
   "metadata": {},
   "source": [
    "### Creating a topic"
   ]
  },
  {
   "cell_type": "code",
   "execution_count": null,
   "id": "f6af2f38-7eef-4171-96f5-d660f95336d4",
   "metadata": {},
   "outputs": [],
   "source": [
    "Ans:\n",
    "TOPIC                    STATUS\n",
    "greenTaxi-10-2019-topic  OK"
   ]
  },
  {
   "cell_type": "markdown",
   "id": "b148943f-ce85-4794-805f-308edc8f0882",
   "metadata": {},
   "source": [
    "### Connecting to the Kafka server"
   ]
  },
  {
   "cell_type": "code",
   "execution_count": null,
   "id": "19aa6301-bcbd-4a23-ae6d-0c99ef932dbe",
   "metadata": {},
   "outputs": [],
   "source": [
    "To connect to the server, run kafka_connection.ipynb"
   ]
  },
  {
   "cell_type": "markdown",
   "id": "da2bd37e-552b-4ae9-818f-d0e1dfa40eea",
   "metadata": {},
   "source": [
    "### Sending the Trip Data"
   ]
  },
  {
   "cell_type": "code",
   "execution_count": null,
   "id": "cc7ab91d-a2e1-48e5-8852-22889355ffc4",
   "metadata": {},
   "outputs": [],
   "source": [
    "'lpep_pickup_datetime',\n",
    "'lpep_dropoff_datetime',\n",
    "'PULocationID',\n",
    "'DOLocationID',\n",
    "'passenger_count',\n",
    "'trip_distance',\n",
    "'tip_amount'"
   ]
  },
  {
   "cell_type": "markdown",
   "id": "ba53889d-3792-4860-b25e-6cf652c09e76",
   "metadata": {},
   "source": [
    "### Build a Sessionization Window"
   ]
  },
  {
   "cell_type": "code",
   "execution_count": null,
   "id": "5513c0d9-67a5-49e2-acd6-d7788e60366d",
   "metadata": {},
   "outputs": [],
   "source": [
    "docker compose exec jobmanager ./bin/flink run -py /opt/src/job/session_job.py --pyFiles /opt/src/job -d"
   ]
  }
 ],
 "metadata": {
  "kernelspec": {
   "display_name": "Python 3 (ipykernel)",
   "language": "python",
   "name": "python3"
  },
  "language_info": {
   "codemirror_mode": {
    "name": "ipython",
    "version": 3
   },
   "file_extension": ".py",
   "mimetype": "text/x-python",
   "name": "python",
   "nbconvert_exporter": "python",
   "pygments_lexer": "ipython3",
   "version": "3.12.1"
  }
 },
 "nbformat": 4,
 "nbformat_minor": 5
}

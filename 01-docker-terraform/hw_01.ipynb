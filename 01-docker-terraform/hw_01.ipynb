{
 "cells": [
  {
   "cell_type": "markdown",
   "id": "a11a1900-fe0f-4621-a4f0-85084fba6282",
   "metadata": {},
   "source": [
    "## Module 1 Homework: Docker & SQL"
   ]
  },
  {
   "cell_type": "markdown",
   "id": "0e3de5d5-584b-4b84-acdb-2ca361de8b99",
   "metadata": {},
   "source": [
    "#### Docker run"
   ]
  },
  {
   "cell_type": "code",
   "execution_count": null,
   "id": "e64d6ab7-2f22-4ca4-b29b-4d53d3ba3a86",
   "metadata": {},
   "outputs": [],
   "source": [
    "docker run -it --entrypoint bash python:3.12.8"
   ]
  },
  {
   "cell_type": "code",
   "execution_count": null,
   "id": "b62d522d-cc66-4c96-a62a-6be664d98f32",
   "metadata": {},
   "outputs": [],
   "source": [
    "pip --version"
   ]
  },
  {
   "cell_type": "code",
   "execution_count": null,
   "id": "03637c73-f8ee-4719-80d1-ffdb82143d67",
   "metadata": {},
   "outputs": [],
   "source": [
    "24.3.1"
   ]
  },
  {
   "cell_type": "markdown",
   "id": "178a2c78-0d71-483f-befa-9c81e09de88a",
   "metadata": {},
   "source": [
    "#### Docker networking and docker-compose"
   ]
  },
  {
   "cell_type": "code",
   "execution_count": null,
   "id": "4811c5b3-b339-4177-b3c8-383f9d451b00",
   "metadata": {},
   "outputs": [],
   "source": [
    "services:\n",
    "  db:\n",
    "    container_name: postgres\n",
    "    image: postgres:17-alpine\n",
    "    environment:\n",
    "      POSTGRES_USER: 'postgres'\n",
    "      POSTGRES_PASSWORD: 'postgres'\n",
    "      POSTGRES_DB: 'ny_taxi'\n",
    "    ports:\n",
    "      - '5433:5432'\n",
    "    volumes:\n",
    "      - vol-pgdata:/var/lib/postgresql/data\n",
    "\n",
    "  pgadmin:\n",
    "    container_name: pgadmin\n",
    "    image: dpage/pgadmin4:latest\n",
    "    environment:\n",
    "      PGADMIN_DEFAULT_EMAIL: \"pgadmin@pgadmin.com\"\n",
    "      PGADMIN_DEFAULT_PASSWORD: \"pgadmin\"\n",
    "    ports:\n",
    "      - \"8080:80\"\n",
    "    volumes:\n",
    "      - vol-pgadmin_data:/var/lib/pgadmin  \n",
    "\n",
    "volumes:\n",
    "  vol-pgdata:\n",
    "    name: vol-pgdata\n",
    "  vol-pgadmin_data:\n",
    "    name: vol-pgadmin_data"
   ]
  },
  {
   "cell_type": "code",
   "execution_count": null,
   "id": "da9cad4f-2bce-4b1a-a400-7d80eb431558",
   "metadata": {},
   "outputs": [],
   "source": [
    "db:5432"
   ]
  },
  {
   "cell_type": "markdown",
   "id": "b9287ac0-5261-4eaa-b426-7f773996a9fc",
   "metadata": {},
   "source": [
    "#### Prepare Postgres"
   ]
  },
  {
   "cell_type": "code",
   "execution_count": null,
   "id": "2252445a-ff32-438f-bd6c-4d3eb501a8fe",
   "metadata": {},
   "outputs": [],
   "source": [
    "wget https://github.com/DataTalksClub/nyc-tlc-data/releases/download/green/green_tripdata_2019-10.csv.gz"
   ]
  },
  {
   "cell_type": "code",
   "execution_count": null,
   "id": "9b1db455-1466-412d-9082-f341fbe8d5c6",
   "metadata": {},
   "outputs": [],
   "source": [
    "wget https://github.com/DataTalksClub/nyc-tlc-data/releases/download/misc/taxi_zone_lookup.csv"
   ]
  },
  {
   "cell_type": "markdown",
   "id": "c7fbd44d-d4fb-4c77-bea7-8a169a3a0f44",
   "metadata": {},
   "source": [
    "#### Command (for running Postgres and pgAdmin together)"
   ]
  },
  {
   "cell_type": "code",
   "execution_count": null,
   "id": "3a1093e0-470a-4853-80a6-a83a06294dd5",
   "metadata": {},
   "outputs": [],
   "source": [
    "docker-compose up -d"
   ]
  },
  {
   "cell_type": "code",
   "execution_count": null,
   "id": "0d09b073-6ce9-447b-84be-e370b1537abc",
   "metadata": {},
   "outputs": [],
   "source": [
    "docker-compose down"
   ]
  },
  {
   "cell_type": "code",
   "execution_count": null,
   "id": "7fb3baed-f87f-4a82-af49-0aa8b85f3a65",
   "metadata": {},
   "outputs": [],
   "source": [
    "URL=\"https://github.com/DataTalksClub/nyc-tlc-data/releases/download/green/green_tripdata_2019-10.csv.gz\"\n",
    "\n",
    "python ingest_data_trip.py \\\n",
    "  --user=root \\\n",
    "  --password=root \\\n",
    "  --host=localhost \\\n",
    "  --port=5432 \\\n",
    "  --db=ny_taxi \\\n",
    "  --table_name=green_taxi_trips \\\n",
    "  --url=${URL}"
   ]
  }
 ],
 "metadata": {
  "kernelspec": {
   "display_name": "Python 3 (ipykernel)",
   "language": "python",
   "name": "python3"
  },
  "language_info": {
   "codemirror_mode": {
    "name": "ipython",
    "version": 3
   },
   "file_extension": ".py",
   "mimetype": "text/x-python",
   "name": "python",
   "nbconvert_exporter": "python",
   "pygments_lexer": "ipython3",
   "version": "3.12.1"
  }
 },
 "nbformat": 4,
 "nbformat_minor": 5
}

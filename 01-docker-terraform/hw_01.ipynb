{
 "cells": [
  {
   "cell_type": "markdown",
   "id": "a11a1900-fe0f-4621-a4f0-85084fba6282",
   "metadata": {},
   "source": [
    "## Module 1 Homework: Docker & SQL"
   ]
  },
  {
   "cell_type": "markdown",
   "id": "0e3de5d5-584b-4b84-acdb-2ca361de8b99",
   "metadata": {},
   "source": [
    "### Docker"
   ]
  },
  {
   "cell_type": "markdown",
   "id": "f9d20cd8-524e-4d1f-aaa4-f06d3c727ac5",
   "metadata": {},
   "source": [
    "docker run -it --entrypoint bash python:3.12.8"
   ]
  },
  {
   "cell_type": "markdown",
   "id": "96055fbf-b343-4288-9590-49994aaa6e1a",
   "metadata": {},
   "source": [
    "pip --version"
   ]
  },
  {
   "cell_type": "markdown",
   "id": "9e1cc04d-fbd6-4d54-9619-9a410925e075",
   "metadata": {},
   "source": [
    "24.3.1"
   ]
  },
  {
   "cell_type": "markdown",
   "id": "178a2c78-0d71-483f-befa-9c81e09de88a",
   "metadata": {},
   "source": [
    "#### Docker networking and docker-compose"
   ]
  },
  {
   "cell_type": "markdown",
   "id": "7d3156f3-1a06-4d23-ad32-c04877485925",
   "metadata": {},
   "source": [
    "services:\n",
    "  db:\n",
    "    container_name: postgres\n",
    "    image: postgres:17-alpine\n",
    "    environment:\n",
    "      POSTGRES_USER: 'postgres'\n",
    "      POSTGRES_PASSWORD: 'postgres'\n",
    "      POSTGRES_DB: 'ny_taxi'\n",
    "    ports:\n",
    "      - '5433:5432'\n",
    "    volumes:\n",
    "      - vol-pgdata:/var/lib/postgresql/data\n",
    "\n",
    "  pgadmin:\n",
    "    container_name: pgadmin\n",
    "    image: dpage/pgadmin4:latest\n",
    "    environment:\n",
    "      PGADMIN_DEFAULT_EMAIL: \"pgadmin@pgadmin.com\"\n",
    "      PGADMIN_DEFAULT_PASSWORD: \"pgadmin\"\n",
    "    ports:\n",
    "      - \"8080:80\"\n",
    "    volumes:\n",
    "      - vol-pgadmin_data:/var/lib/pgadmin  \n",
    "\n",
    "volumes:\n",
    "  vol-pgdata:\n",
    "    name: vol-pgdata\n",
    "  vol-pgadmin_data:\n",
    "    name: vol-pgadmin_data"
   ]
  },
  {
   "cell_type": "markdown",
   "id": "c30fc068-3ffa-459f-9421-0d8b51dd93c9",
   "metadata": {},
   "source": [
    "db:5432"
   ]
  },
  {
   "cell_type": "markdown",
   "id": "b9287ac0-5261-4eaa-b426-7f773996a9fc",
   "metadata": {},
   "source": [
    "#### Trip Segmentation Count"
   ]
  },
  {
   "cell_type": "markdown",
   "id": "ef7975df-09a8-4f88-bdbc-c35d87360bfc",
   "metadata": {},
   "source": [
    "wget https://github.com/DataTalksClub/nyc-tlc-data/releases/download/green/green_tripdata_2019-10.csv.gz"
   ]
  },
  {
   "cell_type": "markdown",
   "id": "7c946905-098d-48bb-9b98-5687d765d16c",
   "metadata": {},
   "source": [
    "wget https://github.com/DataTalksClub/nyc-tlc-data/releases/download/misc/taxi_zone_lookup.csv"
   ]
  },
  {
   "cell_type": "markdown",
   "id": "c7fbd44d-d4fb-4c77-bea7-8a169a3a0f44",
   "metadata": {},
   "source": [
    "#### Command (for running Postgres and pgAdmin together)"
   ]
  },
  {
   "cell_type": "markdown",
   "id": "bf60b6ba-7cdc-4933-8ec5-98bf7aa40690",
   "metadata": {},
   "source": [
    "docker-compose up -d"
   ]
  },
  {
   "cell_type": "markdown",
   "id": "f84d95bd-9e40-4f35-9dde-332253def83c",
   "metadata": {},
   "source": [
    "docker-compose down"
   ]
  },
  {
   "cell_type": "markdown",
   "id": "d15ef7a0-5c6b-4b0e-8a68-21408b90ef81",
   "metadata": {},
   "source": [
    "URL=\"https://github.com/DataTalksClub/nyc-tlc-data/releases/download/green/green_tripdata_2019-10.csv.gz\"\n",
    "\n",
    "python ingest_data_trip.py \\\n",
    "  --user=root \\\n",
    "  --password=root \\\n",
    "  --host=localhost \\\n",
    "  --port=5432 \\\n",
    "  --db=ny_taxi \\\n",
    "  --table_name=green_taxi_trips \\\n",
    "  --url=${URL}"
   ]
  },
  {
   "cell_type": "markdown",
   "id": "d745ff65-e483-4a58-9680-a9e5f4eec802",
   "metadata": {},
   "source": [
    "URL=\"https://github.com/DataTalksClub/nyc-tlc-data/releases/download/misc/taxi_zone_lookup.csv\"\n",
    "\n",
    "python ingest_data_zone.py \\\n",
    "  --user=root \\\n",
    "  --password=root \\\n",
    "  --host=localhost \\\n",
    "  --port=5432 \\\n",
    "  --db=ny_taxi \\\n",
    "  --table_name=zones \\\n",
    "  --url=${URL}"
   ]
  },
  {
   "cell_type": "markdown",
   "id": "e9eaa02c-8a3e-4af3-855e-642c9ad1df6f",
   "metadata": {},
   "source": [
    "#### Longest trip for each day"
   ]
  },
  {
   "cell_type": "markdown",
   "id": "cbcf6cbe-602b-4959-8a9e-239622c563f4",
   "metadata": {},
   "source": [
    "SELECT\n",
    "  CASE\n",
    "    WHEN trip_distance <= 1 THEN 'Up to 1 mile'\n",
    "    WHEN trip_distance > 1 AND trip_distance <= 3 THEN '1 to 3 miles'\n",
    "    WHEN trip_distance > 3 AND trip_distance <= 7 THEN '3 to 7 miles'\n",
    "    WHEN trip_distance > 7 AND trip_distance <= 10 THEN '7 to 10 miles'\n",
    "    ELSE 'Over 10 miles'\n",
    "  END AS distance_category,\n",
    "  COUNT(*) AS trip_count\n",
    "FROM\n",
    "  green_taxi_trips\n",
    "GROUP BY\n",
    "  distance_category"
   ]
  },
  {
   "cell_type": "markdown",
   "id": "9b252609-1044-4d6b-837b-11f8d7c588d2",
   "metadata": {},
   "source": [
    "104,838; 199,013; 109,645; 27,688; 35,202"
   ]
  },
  {
   "cell_type": "markdown",
   "id": "cd22eb00-eb67-47b8-8c0c-598ce3b07381",
   "metadata": {},
   "source": [
    "#### Which was the pick up day with the longest trip distance?"
   ]
  },
  {
   "cell_type": "markdown",
   "id": "10f39a01-b061-44c5-a584-36adbcbdc27f",
   "metadata": {},
   "source": [
    "SELECT\n",
    "  CAST(lpep_pickup_datetime AS DATE),\n",
    "  trip_distance\n",
    "FROM\n",
    "  green_taxi_trips\n",
    "WHERE\n",
    "  trip_distance = (SELECT MAX(trip_distance) FROM green_taxi_trips)"
   ]
  },
  {
   "cell_type": "markdown",
   "id": "845a2ab6-816b-4419-9382-2bca4a670b9c",
   "metadata": {},
   "source": [
    "2019-10-31"
   ]
  },
  {
   "cell_type": "markdown",
   "id": "325e3166-2c95-4e2d-b1b1-e5ebcc21b2fa",
   "metadata": {},
   "source": [
    "#### Three biggest pickup zones"
   ]
  },
  {
   "cell_type": "markdown",
   "id": "1864f5c1-48d4-4957-aae2-b372b3dcd7c1",
   "metadata": {},
   "source": [
    "SELECT\n",
    "  zpu.\"Zone\",\n",
    "  SUM(total_amount) AS total_amount_sum\n",
    "FROM \n",
    "  green_taxi_trips t,\n",
    "  zones zpu\n",
    "WHERE\n",
    "  t.\"PULocationID\" = zpu.\"LocationID\"\n",
    "  AND CAST(lpep_pickup_datetime AS DATE) = '2019-10-18'\n",
    "GROUP BY\n",
    "  zpu.\"Zone\"\n",
    "Having\n",
    "  SUM(total_amount) > 13000\n",
    "ORDER BY\n",
    "  total_amount_sum DESC\n",
    "LIMIT 3"
   ]
  },
  {
   "cell_type": "markdown",
   "id": "dd51c32d-cd43-4b58-950c-e81a1432bbf0",
   "metadata": {},
   "source": [
    "East Harlem North, East Harlem South, Morningside Heights"
   ]
  },
  {
   "cell_type": "markdown",
   "id": "b91e7e08-1c12-4266-ad24-f611f79cf1f8",
   "metadata": {},
   "source": [
    "#### Largest tip"
   ]
  },
  {
   "cell_type": "markdown",
   "id": "1b39392e-7000-4728-a2db-4d58d92505b2",
   "metadata": {},
   "source": [
    "SELECT\n",
    "  zdo.\"Zone\",\n",
    "  MAX(tip_amount) AS tip_amount_max\n",
    "FROM\n",
    "  green_taxi_trips t,\n",
    "  zones zpu,\n",
    "  zones zdo\n",
    "WHERE\n",
    "  t.\"PULocationID\" = zpu.\"LocationID\"\n",
    "  AND t.\"DOLocationID\" = zdo.\"LocationID\"\n",
    "  AND zpu.\"Zone\" = 'East Harlem North'\n",
    "GROUP BY\n",
    "  zdo.\"Zone\"\n",
    "ORDER BY\n",
    "  tip_amount_max DESC\n",
    "LIMIT 1"
   ]
  },
  {
   "cell_type": "markdown",
   "id": "64c34f27-0c38-4fe0-877a-1c523d647050",
   "metadata": {},
   "source": [
    "### Terraform"
   ]
  },
  {
   "cell_type": "markdown",
   "id": "ba91f0f3-30a8-4110-bae9-83e698ded6cd",
   "metadata": {},
   "source": [
    "terraform init, terraform apply -auto-approve, terraform destroy"
   ]
  }
 ],
 "metadata": {
  "kernelspec": {
   "display_name": "Python 3 (ipykernel)",
   "language": "python",
   "name": "python3"
  },
  "language_info": {
   "codemirror_mode": {
    "name": "ipython",
    "version": 3
   },
   "file_extension": ".py",
   "mimetype": "text/x-python",
   "name": "python",
   "nbconvert_exporter": "python",
   "pygments_lexer": "ipython3",
   "version": "3.12.1"
  }
 },
 "nbformat": 4,
 "nbformat_minor": 5
}

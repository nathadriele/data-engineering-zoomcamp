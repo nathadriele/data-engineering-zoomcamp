{
 "cells": [
  {
   "cell_type": "code",
   "execution_count": null,
   "id": "ea8b9312-b09a-4cef-bbc3-1fd1bc29726b",
   "metadata": {},
   "outputs": [],
   "source": [
    "from pyspark.sql import SparkSession"
   ]
  },
  {
   "cell_type": "code",
   "execution_count": null,
   "id": "04aa49c2-57f3-4314-93c5-2e735f3ae679",
   "metadata": {},
   "outputs": [],
   "source": [
    "spark = SparkSession.builder \\\n",
    "    .master('local[*]') \\\n",
    "    .appName('hw') \\\n",
    "    .getOrCreate()\n",
    "spark.version"
   ]
  },
  {
   "cell_type": "code",
   "execution_count": null,
   "id": "171ea7b9-e32d-4052-9965-dcac88a5cba2",
   "metadata": {},
   "outputs": [],
   "source": [
    "!cd ../data/hw/ && curl -O https://d37ci6vzurychx.cloudfront.net/trip-data/yellow_tripdata_2024-10.parquet"
   ]
  },
  {
   "cell_type": "code",
   "execution_count": null,
   "id": "e0438b2f-2671-4bcc-ab16-c92d25e6837f",
   "metadata": {},
   "outputs": [],
   "source": [
    "df = spark.read.parquet('../data/hw/yellow_tripdata_2024-10.parquet')"
   ]
  },
  {
   "cell_type": "code",
   "execution_count": null,
   "id": "1ca965c3-ccc7-4646-a82f-afcefb0d32da",
   "metadata": {},
   "outputs": [],
   "source": [
    "df = df.repartition(4)\n",
    "df.write.parquet('../data/hw/pq/2024/10/', mode='overwrite')"
   ]
  },
  {
   "cell_type": "code",
   "execution_count": null,
   "id": "51f8ba78-6e1f-447e-92fd-f9837ed14185",
   "metadata": {},
   "outputs": [],
   "source": [
    "!ls -lh ../data/hw/pq/2024/10/"
   ]
  },
  {
   "cell_type": "code",
   "execution_count": null,
   "id": "09ab2050-3c58-4bef-8295-359bacaef1be",
   "metadata": {},
   "outputs": [],
   "source": [
    "from pyspark.sql import functions as F"
   ]
  },
  {
   "cell_type": "code",
   "execution_count": null,
   "id": "6cd86f4a-8599-4fa0-ba8e-b05a642d8a0b",
   "metadata": {},
   "outputs": [],
   "source": [
    "df.filter(\n",
    "    F.to_date('tpep_pickup_datetime') == '2024-10-15'\n",
    ").count()"
   ]
  },
  {
   "cell_type": "code",
   "execution_count": null,
   "id": "bf7361d8-284b-4af0-9e21-2e54ccdf7567",
   "metadata": {},
   "outputs": [],
   "source": [
    "df.withColumn(\n",
    "    'time_diff_hrs', \n",
    "    (F.unix_timestamp('tpep_dropoff_datetime') - F.unix_timestamp('tpep_pickup_datetime')) / 3600\n",
    ").select(\n",
    "    F.max('time_diff_hrs')\n",
    ").show()"
   ]
  },
  {
   "cell_type": "code",
   "execution_count": null,
   "id": "0d3d185a-04ac-4a88-b35f-f5f6ba4c94c0",
   "metadata": {},
   "outputs": [],
   "source": [
    "zones_df = spark.read \\\n",
    "    .option('header', 'true') \\\n",
    "    .csv('../data/tst/taxi_zone_lookup.csv')"
   ]
  },
  {
   "cell_type": "code",
   "execution_count": null,
   "id": "9f9522de-5838-45ac-af89-330a4a2689ae",
   "metadata": {},
   "outputs": [],
   "source": [
    "zones_df.columns"
   ]
  },
  {
   "cell_type": "code",
   "execution_count": null,
   "id": "972f4c7b-1e16-4748-be79-95939bcd8780",
   "metadata": {},
   "outputs": [],
   "source": [
    "zones_df.createOrReplaceTempView('zones')\n",
    "df.createOrReplaceTempView('trips')"
   ]
  },
  {
   "cell_type": "code",
   "execution_count": null,
   "id": "0f09e573-a1f3-48f5-af2e-bf8a9fc2390c",
   "metadata": {},
   "outputs": [],
   "source": [
    "df.columns"
   ]
  },
  {
   "cell_type": "code",
   "execution_count": null,
   "id": "f24c887b-51b6-44be-a8a5-b4a3d9c505df",
   "metadata": {},
   "outputs": [],
   "source": [
    "spark.sql(\n",
    "    \"\"\"\n",
    "    SELECT\n",
    "        pickup_zone.zone as pickup_zone,\n",
    "        COUNT(1) AS zone_pickups_cnt\n",
    "    FROM trips\n",
    "        INNER JOIN zones AS pickup_zone\n",
    "            ON trips.PULocationID = pickup_zone.LocationID\n",
    "        INNER JOIN zones AS dropoff_zone\n",
    "            ON trips.DOLocationID = dropoff_zone.LocationID\n",
    "    GROUP BY pickup_zone\n",
    "    ORDER BY zone_pickups_cnt\n",
    "    \"\"\"\n",
    ").show()"
   ]
  }
 ],
 "metadata": {
  "kernelspec": {
   "display_name": "Python 3 (ipykernel)",
   "language": "python",
   "name": "python3"
  },
  "language_info": {
   "codemirror_mode": {
    "name": "ipython",
    "version": 3
   },
   "file_extension": ".py",
   "mimetype": "text/x-python",
   "name": "python",
   "nbconvert_exporter": "python",
   "pygments_lexer": "ipython3",
   "version": "3.12.1"
  }
 },
 "nbformat": 4,
 "nbformat_minor": 5
}

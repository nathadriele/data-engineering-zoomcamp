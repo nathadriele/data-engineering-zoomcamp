{
 "cells": [
  {
   "cell_type": "code",
   "execution_count": 1,
   "id": "5374e13e-836e-4a92-a0cb-70f0461d1847",
   "metadata": {},
   "outputs": [
    {
     "name": "stdout",
     "output_type": "stream",
     "text": [
      "Pipeline ny_taxi_pipeline load step completed in 1.27 seconds\n",
      "1 load package(s) were loaded to destination duckdb and into dataset ny_taxi_data\n",
      "The duckdb destination used duckdb:////workspaces/data-engineering-zoomcamp/workshop-01-ingestion-with-dlt/ny_taxi_pipeline.duckdb location to store data\n",
      "Load package 1739467233.995203 is LOADED and contains no failed jobs\n"
     ]
    }
   ],
   "source": [
    "import dlt\n",
    "from dlt.sources.helpers.rest_client import RESTClient\n",
    "from dlt.sources.helpers.rest_client.paginators import PageNumberPaginator\n",
    "\n",
    "@dlt.resource(name=\"rides\", write_disposition=\"replace\")\n",
    "def ny_taxi():\n",
    "    client = RESTClient(\n",
    "        base_url=\"https://us-central1-dlthub-analytics.cloudfunctions.net\",\n",
    "        paginator=PageNumberPaginator(\n",
    "            base_page=1,\n",
    "            total_path=None\n",
    "        )\n",
    "    )\n",
    "\n",
    "    for page in client.paginate(\"data_engineering_zoomcamp_api\"):\n",
    "        yield page\n",
    "\n",
    "\n",
    "pipeline = dlt.pipeline(\n",
    "    pipeline_name=\"ny_taxi_pipeline\",\n",
    "    destination=\"duckdb\",\n",
    "    dataset_name=\"ny_taxi_data\"\n",
    ")\n",
    "\n",
    "load_info = pipeline.run(ny_taxi, write_disposition=\"replace\")\n",
    "print(load_info)"
   ]
  },
  {
   "cell_type": "code",
   "execution_count": 2,
   "id": "bcfc0afa-a31c-402d-aab6-68711b5e53f9",
   "metadata": {},
   "outputs": [
    {
     "name": "stdout",
     "output_type": "stream",
     "text": [
      "Pipeline ny_taxi_pipeline load step completed in 1.27 seconds\n",
      "1 load package(s) were loaded to destination duckdb and into dataset ny_taxi_data\n",
      "The duckdb destination used duckdb:////workspaces/data-engineering-zoomcamp/workshop-01-ingestion-with-dlt/ny_taxi_pipeline.duckdb location to store data\n",
      "Load package 1739467233.995203 is LOADED and contains no failed jobs\n"
     ]
    }
   ],
   "source": [
    "print(load_info)"
   ]
  },
  {
   "cell_type": "code",
   "execution_count": null,
   "id": "262b12de-f291-486b-90fe-0de0ced14b4b",
   "metadata": {},
   "outputs": [],
   "source": [
    "from google.cloud import bigquery\n",
    "client = bigquery.Client()\n",
    "dataset_name = \"ny_taxi_data\"\n",
    "tables = list(client.list_tables(dataset_name))"
   ]
  },
  {
   "cell_type": "code",
   "execution_count": null,
   "id": "5310404b-4ce5-4798-99be-297c841a4577",
   "metadata": {},
   "outputs": [],
   "source": [
    "print(f\"Tables in dataset {dataset_name}:\")\n",
    "for table in tables:\n",
    "    print(f\"- {table.table_id}\")"
   ]
  },
  {
   "cell_type": "code",
   "execution_count": null,
   "id": "1a6012cb-4ab4-4072-9880-4bc0195bb906",
   "metadata": {},
   "outputs": [],
   "source": [
    "for table in tables:\n",
    "    table_ref = f\"{client.project}.{dataset_name}.{table.table_id}\"\n",
    "    query = f\"SELECT COUNT(*) AS row_count FROM `{table_ref}`\"\n",
    "    result = client.query(query).result()\n",
    "    row_count = list(result)[0][\"row_count\"]\n",
    "    print(f\"Table {table.table_id} has {row_count} rows\")"
   ]
  },
  {
   "cell_type": "code",
   "execution_count": null,
   "id": "1d674c00-d06f-4f3c-8fdf-f782a0191dc6",
   "metadata": {},
   "outputs": [],
   "source": [
    "pipeline.dataset(dataset_type=\"default\").rides.df()"
   ]
  },
  {
   "cell_type": "code",
   "execution_count": null,
   "id": "3e18d3ff-30f3-45ce-a4e4-6029f2f854c4",
   "metadata": {},
   "outputs": [],
   "source": [
    "with pipeline.sql_client() as client:\n",
    "    res = client.execute_sql(\n",
    "            \"\"\"\n",
    "            SELECT\n",
    "            AVG(date_diff('minute', trip_pickup_date_time, trip_dropoff_date_time))\n",
    "            FROM rides;\n",
    "            \"\"\"\n",
    "        )\n",
    "    print(res)"
   ]
  }
 ],
 "metadata": {
  "kernelspec": {
   "display_name": "Python 3 (ipykernel)",
   "language": "python",
   "name": "python3"
  },
  "language_info": {
   "codemirror_mode": {
    "name": "ipython",
    "version": 3
   },
   "file_extension": ".py",
   "mimetype": "text/x-python",
   "name": "python",
   "nbconvert_exporter": "python",
   "pygments_lexer": "ipython3",
   "version": "3.12.1"
  }
 },
 "nbformat": 4,
 "nbformat_minor": 5
}
